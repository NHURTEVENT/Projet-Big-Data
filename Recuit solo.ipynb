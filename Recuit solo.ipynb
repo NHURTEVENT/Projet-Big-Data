{
 "cells": [
  {
   "cell_type": "code",
   "execution_count": 1,
   "metadata": {},
   "outputs": [
    {
     "data": {
      "text/plain": [
       "<Figure size 640x480 with 1 Axes>"
      ]
     },
     "metadata": {},
     "output_type": "display_data"
    }
   ],
   "source": [
    "## Generate a contour plot\n",
    "# Import some other libraries that we'll need\n",
    "# matplotlib and numpy packages must also be installed\n",
    "import matplotlib\n",
    "import numpy as np\n",
    "import matplotlib.pyplot as plt\n",
    "import random\n",
    "import math\n",
    "\n",
    "# define objective function\n",
    "def f(x):\n",
    "    #x1=x\n",
    "    #x1 = x[0]\n",
    "    #x2 = x[1]\n",
    "    x= float(x)\n",
    "    #obj = 0.1*math.cos(x1)\n",
    "    #obj = 0.5*x\n",
    "    #obj = 0.2 + x1**2 + x1**2 - 0.1*math.cos(6.0*3.1415*x1) - 0.1*math.cos(6.0*3.1415*x1)\n",
    "    obj =0.0001*(x+1)*(x-5)*(x-7)*(x-15)*(x-25)*(x-32)\n",
    "    obj =-0.000001*(x+1)*(x-5)*(x-7)*(x-15)*(x-25)*(x-32)*(x-40)*(x-45)+5*x\n",
    "    #print(obj)\n",
    "    return obj\n",
    "\n",
    "# Start location\n",
    "x_start = [0.8, -0.5]\n",
    "y = []\n",
    "x=range(-1,46)\n",
    "for i in x:\n",
    "    #a = [i,2*i+8]\n",
    "    y.append(f(i))\n",
    "\n",
    "\n",
    "#plt.plot([1,2,3,6],[1,2,5,9])\n",
    "plt.plot(x,y)\n",
    "\n",
    "plt.show()"
   ]
  },
  {
   "cell_type": "code",
   "execution_count": 2,
   "metadata": {},
   "outputs": [
    {
     "data": {
      "image/png": "[encoded data removed]",
      "text/plain": [
       "<Figure size 432x288 with 1 Axes>"
      ]
     },
     "metadata": {
      "needs_background": "light"
     },
     "output_type": "display_data"
    }
   ],
   "source": [
    "def recuit(f):\n",
    "\n",
    "    t1 = 10\n",
    "    t = t1\n",
    "    xstart = 5\n",
    "    fc = f(xstart)\n",
    "    n=1000\n",
    "    na =0\n",
    "    results = []\n",
    "    # DeltaE Average\n",
    "    DeltaE_avg = 0.00000000001\n",
    "    for i in range(n):\n",
    "        #print('Cycle: ' + str(i) + ' with Temperature: ' + str(t))\n",
    "\n",
    "        #for j in range(-1;46):\n",
    "\n",
    "        # Generate new trial points\n",
    "\n",
    "        #print('random '+str(random.randrange(-1,46,1)))\n",
    "\n",
    "        #xi = xc + random.random()\n",
    "        xi = random.randrange(-1,46,1)\n",
    "        # Clip to upper and lower bounds\n",
    "        #xi = max(min(xi,1.0),-1.0)\n",
    "\n",
    "        DeltaE = abs(f(xi)-fc)\n",
    "        if (f(xi)>fc):\n",
    "            # Initialize DeltaE_avg if a worse solution was found\n",
    "            #   on the first iteration\n",
    "\n",
    "            #if (i==0 and j==0): DeltaE_avg = DeltaE\n",
    "            if(n==0) : DeltaE_avg = DeltaE\n",
    "\n",
    "            # objective function is worse\n",
    "            # generate probability of acceptance\n",
    "            p = math.exp(-DeltaE/(DeltaE_avg * t))\n",
    "            # determine whether to accept worse point\n",
    "            if (random.random()<p):\n",
    "                # accept the worse solution\n",
    "                accept = True\n",
    "                #print('accepted worse')\n",
    "            else:\n",
    "                # don't accept the worse solution\n",
    "                accept = False\n",
    "        else:\n",
    "            # objective function is lower, automatically accept\n",
    "            accept = True\n",
    "        if (accept==True):\n",
    "            # update currently accepted solution\n",
    "            xc = xi\n",
    "            fc = f(xc)\n",
    "            #print('new x ='+ str(xc))\n",
    "            #print('new y ='+ str(fc))\n",
    "            results.append(fc)\n",
    "            # increment number of accepted solutions\n",
    "            na = na + 1.0\n",
    "            # update DeltaE_avg\n",
    "            DeltaE_avg = (DeltaE_avg * (na-1.0) +  DeltaE) / na\n",
    "        t = 0.95*t\n",
    "\n",
    "    plt.plot(range(len(results)),results)\n",
    "    plt.show\n",
    "    \n",
    "recuit(f)"
   ]
  },
  {
   "cell_type": "code",
   "execution_count": 3,
   "metadata": {},
   "outputs": [],
   "source": [
    "def g(x):\n",
    "    #x1=x\n",
    "    x1 = x[0]\n",
    "    x2 = x[1]\n",
    "    #x= float(x)\n",
    "    #obj = 0.1*math.cos(x1)\n",
    "    #obj = 0.5*x\n",
    "    obj = 0.2 + x1**2 + x1**2 - 0.1*math.cos(6.0*3.1415*x1) - 0.1*math.cos(6.0*3.1415*x1)"
   ]
  },
  {
   "cell_type": "code",
   "execution_count": null,
   "metadata": {},
   "outputs": [],
   "source": []
  },
  {
   "cell_type": "code",
   "execution_count": null,
   "metadata": {},
   "outputs": [],
   "source": []
  },
  {
   "cell_type": "code",
   "execution_count": null,
   "metadata": {},
   "outputs": [],
   "source": []
  }
 ],
 "metadata": {
  "kernelspec": {
   "display_name": "Python 3",
   "language": "python",
   "name": "python3"
  },
  "language_info": {
   "codemirror_mode": {
    "name": "ipython",
    "version": 3
   },
   "file_extension": ".py",
   "mimetype": "text/x-python",
   "name": "python",
   "nbconvert_exporter": "python",
   "pygments_lexer": "ipython3",
   "version": "3.7.3"
  }
 },
 "nbformat": 4,
 "nbformat_minor": 2
}
