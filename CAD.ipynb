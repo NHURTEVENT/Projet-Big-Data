{
 "cells": [
  {
   "cell_type": "code",
   "execution_count": 3,
   "metadata": {},
   "outputs": [
    {
     "name": "stdout",
     "output_type": "stream",
     "text": [
      "Y(x) = 0.7166666666666667x + 19.18888888888889\n"
     ]
    },
    {
     "data": {
      "text/plain": [
       "Text(0.5, 1.0, 'Linear Fit with Matplotlib')"
      ]
     },
     "execution_count": 3,
     "metadata": {},
     "output_type": "execute_result"
    },
    {
     "data": {
      "image/png": "[encoded data removed]",
      "text/plain": [
       "<Figure size 432x288 with 1 Axes>"
      ]
     },
     "metadata": {
      "needs_background": "light"
     },
     "output_type": "display_data"
    }
   ],
   "source": [
    "import matplotlib.pyplot as plt\n",
    "from matplotlib import pylab\n",
    "\n",
    "from numpy import arange,array,ones\n",
    "from scipy import stats\n",
    "\n",
    "y = [19, 20, 20.5, 21.5, 22, 23, 23, 25.5, 24]\n",
    "\n",
    "xi = arange(0, len(y))\n",
    "A = array([xi, ones(len(y))])\n",
    "\n",
    "slope, intercept, r_value, p_value, std_err = stats.linregress(xi, y)\n",
    "line = slope * xi + intercept\n",
    "\n",
    "print('Y(x) = {0}x + {1}'.format(slope, intercept))\n",
    "\n",
    "plt.plot(xi, y, 'o', xi, line)\n",
    "pylab.title('Linear Fit with Matplotlib')"
   ]
  },
  {
   "cell_type": "code",
   "execution_count": 6,
   "metadata": {},
   "outputs": [],
   "source": [
    "import logging\n",
    "import random\n",
    "from math import hypot\n",
    "\n",
    "MIN_NB_OF_TRUCKS = 2\n",
    "MAX_NB_OF_TRUCKS = 5\n",
    "\n",
    "MIN_TRUCK_CAPACITY = 50\n",
    "MAX_TRUCK_CAPACITY = 100\n",
    "\n",
    "MIN_NB_OF_NODES = 10\n",
    "MAX_NB_OF_NODES = 10\n",
    "\n",
    "MIN_NODE_Y = 0\n",
    "MAX_NODE_Y = 100\n",
    "\n",
    "MIN_NODE_X = 0\n",
    "MAX_NODE_X = 100\n",
    "\n",
    "MIN_DEMAND = 1\n",
    "MAX_DEMAND = 25\n",
    "\n",
    "#change this to use a custom seed\n",
    "SEED = None\n",
    "\n",
    "logging.basicConfig(filename='logs.log',\n",
    "                    format='%(asctime)s %(levelname)-8s %(message)s',\n",
    "                    level=logging.INFO,\n",
    "                    datefmt='%Y-%m-%d %H:%M:%S')\n",
    "\n",
    "if SEED is None:\n",
    "    random.seed()\n",
    "    SEED = random.random()\n",
    "\n",
    "random.seed(SEED)\n",
    "\n",
    "logging.info('Seed : {0}'.format(SEED))\n",
    "\n",
    "citiesCount = random.randint(MIN_NB_OF_NODES, MAX_NB_OF_NODES)\n",
    "\n",
    "instance = {\n",
    "    'trucksCount' : random.randint(MIN_NB_OF_TRUCKS, MAX_NB_OF_TRUCKS),\n",
    "    'trucksCapacity' : random.randint(MIN_TRUCK_CAPACITY, MAX_TRUCK_CAPACITY),\n",
    "    'nodes' : [],\n",
    "    'matrix' : [[0]*citiesCount for i in range(citiesCount)]\n",
    "}\n",
    "\n",
    "totalDemand = 0\n",
    "totalDeliveryCapacity = instance['trucksCount'] * instance['trucksCapacity']\n",
    "\n",
    "for i in range(0, citiesCount):\n",
    "    nodeX = random.randint(MIN_NODE_X, MAX_NODE_X)\n",
    "    nodeY = random.randint(MIN_NODE_Y, MAX_NODE_Y)\n",
    "    demand = random.randint(MIN_DEMAND, MAX_DEMAND)\n",
    "    instance['nodes'].append({'id':i, 'x':nodeX, 'y':nodeY, 'demand':demand})\n",
    "    \n",
    "    totalDemand += demand\n",
    "    if totalDemand > totalDeliveryCapacity:\n",
    "        instance['trucksCapacity'] += math.ceil((totalDemand - totalDeliveryCapacity) / instance['trucksCount'])\n",
    "\n",
    "for fromNode in instance['nodes']:\n",
    "    for toNode in instance['nodes'][fromNode['id']:citiesCount]:\n",
    "        dist = int(hypot(toNode['x'] - fromNode['x'], toNode['y'] - fromNode['y']))\n",
    "        instance['matrix'][fromNode['id']][toNode['id']] = dist\n",
    "        instance['matrix'][toNode['id']][fromNode['id']] = dist\n",
    "    \n",
    "#for i in range(0, citiesCount):\n",
    "    #print(instance['matrix'][i])\n",
    "\n",
    "#print(instance)"
   ]
  },
  {
   "cell_type": "code",
   "execution_count": 13,
   "metadata": {
    "scrolled": true
   },
   "outputs": [
    {
     "name": "stdout",
     "output_type": "stream",
     "text": [
      "32\n",
      "{'nodes': [{'id': 0, 'x': 82, 'y': 76, 'demand': '0'}, {'id': 1, 'x': 96, 'y': 44, 'demand': '19'}, {'id': 2, 'x': 50, 'y': 5, 'demand': '21'}, {'id': 3, 'x': 49, 'y': 8, 'demand': '6'}, {'id': 4, 'x': 13, 'y': 7, 'demand': '19'}, {'id': 5, 'x': 29, 'y': 89, 'demand': '7'}, {'id': 6, 'x': 58, 'y': 30, 'demand': '12'}, {'id': 7, 'x': 84, 'y': 39, 'demand': '16'}, {'id': 8, 'x': 14, 'y': 24, 'demand': '6'}, {'id': 9, 'x': 2, 'y': 39, 'demand': '16'}, {'id': 10, 'x': 3, 'y': 82, 'demand': '8'}, {'id': 11, 'x': 5, 'y': 10, 'demand': '14'}, {'id': 12, 'x': 98, 'y': 52, 'demand': '21'}, {'id': 13, 'x': 84, 'y': 25, 'demand': '16'}, {'id': 14, 'x': 61, 'y': 59, 'demand': '3'}, {'id': 15, 'x': 1, 'y': 65, 'demand': '22'}, {'id': 16, 'x': 88, 'y': 51, 'demand': '18'}, {'id': 17, 'x': 91, 'y': 2, 'demand': '19'}, {'id': 18, 'x': 19, 'y': 32, 'demand': '1'}, {'id': 19, 'x': 93, 'y': 3, 'demand': '24'}, {'id': 20, 'x': 50, 'y': 93, 'demand': '8'}, {'id': 21, 'x': 98, 'y': 14, 'demand': '12'}, {'id': 22, 'x': 5, 'y': 42, 'demand': '4'}, {'id': 23, 'x': 42, 'y': 9, 'demand': '8'}, {'id': 24, 'x': 61, 'y': 62, 'demand': '24'}, {'id': 25, 'x': 9, 'y': 97, 'demand': '24'}, {'id': 26, 'x': 80, 'y': 55, 'demand': '2'}, {'id': 27, 'x': 57, 'y': 69, 'demand': '20'}, {'id': 28, 'x': 23, 'y': 15, 'demand': '15'}, {'id': 29, 'x': 20, 'y': 70, 'demand': '2'}, {'id': 30, 'x': 85, 'y': 60, 'demand': '14'}, {'id': 31, 'x': 98, 'y': 5, 'demand': '9'}], 'name': 'A-n32-k5', 'trucksCount': '5', 'optimalValue': '784', 'trucksCapacity': 100, 'depotNodeId': 1, 'matrix': [[0, 34, 77, 75, 97, 54, 51, 37, 85, 88, 79, 101, 28, 51, 27, 81, 25, 74, 76, 73, 36, 64, 84, 78, 25, 75, 21, 25, 84, 62, 16, 72], [34, 0, 60, 59, 90, 80, 40, 13, 84, 94, 100, 97, 8, 22, 38, 97, 10, 42, 77, 41, 67, 30, 91, 64, 39, 101, 19, 46, 78, 80, 19, 39], [77, 60, 0, 3, 37, 86, 26, 48, 40, 58, 90, 45, 67, 39, 55, 77, 59, 41, 41, 43, 88, 48, 58, 8, 58, 100, 58, 64, 28, 71, 65, 48], [75, 59, 3, 0, 36, 83, 23, 46, 38, 56, 87, 44, 65, 38, 52, 74, 58, 42, 38, 44, 85, 49, 55, 7, 55, 97, 56, 61, 26, 68, 63, 49], [97, 90, 37, 36, 0, 83, 50, 77, 17, 33, 75, 8, 96, 73, 70, 59, 86, 78, 25, 80, 93, 85, 35, 29, 73, 90, 82, 76, 12, 63, 89, 85], [54, 80, 86, 83, 83, 0, 65, 74, 66, 56, 26, 82, 78, 84, 43, 36, 70, 106, 57, 107, 21, 101, 52, 81, 41, 21, 61, 34, 74, 21, 63, 108], [51, 40, 26, 23, 50, 65, 0, 27, 44, 56, 75, 56, 45, 26, 29, 66, 36, 43, 39, 44, 63, 43, 54, 26, 32, 83, 33, 39, 38, 55, 40, 47], [37, 13, 48, 46, 77, 74, 27, 0, 71, 82, 91, 84, 19, 14, 30, 86, 12, 37, 65, 37, 63, 28, 79, 51, 32, 94, 16, 40, 65, 71, 21, 36], [85, 84, 40, 38, 17, 66, 44, 71, 0, 19, 59, 16, 88, 70, 58, 43, 78, 80, 9, 81, 77, 84, 20, 31, 60, 73, 72, 62, 12, 46, 79, 86], [88, 94, 58, 56, 33, 56, 56, 82, 19, 0, 43, 29, 96, 83, 62, 26, 86, 96, 18, 97, 72, 99, 4, 50, 63, 58, 79, 62, 31, 35, 85, 101], [79, 100, 90, 87, 75, 26, 75, 91, 59, 43, 0, 72, 99, 99, 62, 17, 90, 118, 52, 119, 48, 116, 40, 82, 61, 16, 81, 55, 69, 20, 84, 122], [101, 97, 45, 44, 8, 82, 56, 84, 16, 29, 72, 0, 102, 80, 74, 55, 92, 86, 26, 88, 94, 93, 32, 37, 76, 87, 87, 78, 18, 61, 94, 93], [28, 8, 67, 65, 96, 78, 45, 19, 88, 96, 99, 102, 0, 30, 37, 97, 10, 50, 81, 49, 63, 38, 93, 70, 38, 99, 18, 44, 83, 80, 15, 47], [51, 22, 39, 38, 73, 84, 26, 14, 70, 83, 99, 80, 30, 0, 41, 92, 26, 24, 65, 23, 76, 17, 80, 44, 43, 103, 30, 51, 61, 78, 35, 24], [27, 38, 55, 52, 70, 43, 29, 30, 58, 62, 62, 74, 37, 41, 0, 60, 28, 64, 49, 64, 35, 58, 58, 53, 3, 64, 19, 10, 58, 42, 24, 65], [81, 97, 77, 74, 59, 36, 66, 86, 43, 26, 17, 55, 97, 92, 60, 0, 88, 109, 37, 110, 56, 109, 23, 69, 60, 32, 79, 56, 54, 19, 84, 114], [25, 10, 59, 58, 86, 70, 36, 12, 78, 86, 90, 92, 10, 26, 28, 88, 0, 49, 71, 48, 56, 38, 83, 62, 29, 91, 8, 35, 74, 70, 9, 47], [74, 42, 41, 42, 78, 106, 43, 37, 80, 96, 118, 86, 50, 24, 64, 109, 49, 0, 78, 2, 99, 13, 94, 49, 67, 125, 54, 75, 69, 98, 58, 7], [76, 77, 41, 38, 25, 57, 39, 65, 9, 18, 52, 26, 81, 65, 49, 37, 71, 78, 0, 79, 68, 81, 17, 32, 51, 65, 65, 53, 17, 38, 71, 83], [73, 41, 43, 44, 80, 107, 44, 37, 81, 97, 119, 88, 49, 23, 64, 110, 48, 2, 79, 0, 99, 12, 96, 51, 67, 126, 53, 75, 71, 99, 57, 5], [36, 67, 88, 85, 93, 21, 63, 63, 77, 72, 48, 94, 63, 76, 35, 56, 56, 99, 68, 99, 0, 92, 68, 84, 32, 41, 48, 25, 82, 37, 48, 100], [64, 30, 48, 49, 85, 101, 43, 28, 84, 99, 116, 93, 38, 17, 58, 109, 38, 13, 81, 12, 92, 0, 97, 56, 60, 121, 44, 68, 75, 96, 47, 9], [84, 91, 58, 55, 35, 52, 54, 79, 20, 4, 40, 32, 93, 80, 58, 23, 83, 94, 17, 96, 68, 97, 0, 49, 59, 55, 76, 58, 32, 31, 82, 100], [78, 64, 8, 7, 29, 81, 26, 51, 31, 50, 82, 37, 70, 44, 53, 69, 62, 49, 32, 51, 84, 56, 49, 0, 56, 93, 59, 61, 19, 64, 66, 56], [25, 39, 58, 55, 73, 41, 32, 32, 60, 63, 61, 76, 38, 43, 3, 60, 29, 67, 51, 67, 32, 60, 59, 56, 0, 62, 20, 8, 60, 41, 24, 67], [75, 101, 100, 97, 90, 21, 83, 94, 73, 58, 16, 87, 99, 103, 64, 32, 91, 125, 65, 126, 41, 121, 55, 93, 62, 0, 82, 55, 83, 29, 84, 128], [21, 19, 58, 56, 82, 61, 33, 16, 72, 79, 81, 87, 18, 30, 19, 79, 8, 54, 65, 53, 48, 44, 76, 59, 20, 82, 0, 26, 69, 61, 7, 53], [25, 46, 64, 61, 76, 34, 39, 40, 62, 62, 55, 78, 44, 51, 10, 56, 35, 75, 53, 75, 25, 68, 58, 61, 8, 55, 26, 0, 63, 37, 29, 76], [84, 78, 28, 26, 12, 74, 38, 65, 12, 31, 69, 18, 83, 61, 58, 54, 74, 69, 17, 71, 82, 75, 32, 19, 60, 83, 69, 63, 0, 55, 76, 75], [62, 80, 71, 68, 63, 21, 55, 71, 46, 35, 20, 61, 80, 78, 42, 19, 70, 98, 38, 99, 37, 96, 31, 64, 41, 29, 61, 37, 55, 0, 65, 101], [16, 19, 65, 63, 89, 63, 40, 21, 79, 85, 84, 94, 15, 35, 24, 84, 9, 58, 71, 57, 48, 47, 82, 66, 24, 84, 7, 29, 76, 65, 0, 56], [72, 39, 48, 49, 85, 108, 47, 36, 86, 101, 122, 93, 47, 24, 65, 114, 47, 7, 83, 5, 100, 9, 100, 56, 67, 128, 53, 76, 75, 101, 56, 0]]}\n"
     ]
    }
   ],
   "source": [
    "from parse import parse\n",
    "from math import hypot\n",
    "\n",
    "fileName = \"input.txt\"\n",
    "\n",
    "instance = {\n",
    "    'nodes' : list()\n",
    "}\n",
    "\n",
    "citiesCount = None\n",
    "\n",
    "with open(fileName, 'rt') as myFile:\n",
    "    python_ne_sait_pas_faire_des_iterators_section = 0\n",
    "    \n",
    "    for line in myFile.readlines():\n",
    "        if line.startswith(\"NAME : \"):\n",
    "            instance['name'] = parse('NAME : {}', line)[0]\n",
    "        elif line.startswith(\"COMMENT : \"):\n",
    "            temp, instance['trucksCount'], instance['optimalValue'] = parse('COMMENT : {} No of trucks: {}, Optimal value: {})', line)            \n",
    "        elif line.startswith(\"TYPE : \"):\n",
    "            continue\n",
    "        elif line.startswith(\"DIMENSION : \"):\n",
    "            citiesCount = int(parse('DIMENSION : {}', line)[0])\n",
    "        elif line.startswith(\"EDGE_WEIGHT_TYPE : \"):\n",
    "            continue\n",
    "        elif line.startswith(\"CAPACITY : \"):\n",
    "            instance['trucksCapacity'] = int(parse('CAPACITY : {}', line)[0])\n",
    "        elif line.startswith(\"NODE_COORD_SECTION \"):\n",
    "            python_ne_sait_pas_faire_des_iterators_section = 1\n",
    "            continue\n",
    "        elif line.startswith(\"DEMAND_SECTION \"):\n",
    "            python_ne_sait_pas_faire_des_iterators_section = 2\n",
    "            continue\n",
    "        elif line.startswith(\"DEPOT_SECTION \"):\n",
    "            python_ne_sait_pas_faire_des_iterators_section = 3\n",
    "            continue\n",
    "            \n",
    "        #ni des switch...\n",
    "        if python_ne_sait_pas_faire_des_iterators_section == 1:\n",
    "            id, x, y = parse(' {} {} {}', line)\n",
    "            instance['nodes'].append({'id':int(id) - 1, 'x':int(x), 'y':int(y)})\n",
    "        elif python_ne_sait_pas_faire_des_iterators_section == 2:\n",
    "            id, demand = parse('{} {}', line)\n",
    "            instance['nodes'][int(id) - 1]['demand'] = demand[:-1]\n",
    "        elif python_ne_sait_pas_faire_des_iterators_section == 3:\n",
    "            instance['depotNodeId'] = int(parse(' {}', line)[0])\n",
    "            break;\n",
    "\n",
    "if citiesCount is None:\n",
    "    raise Exception('CitiesCount cannot be None, verify that the input file as a valid format')\n",
    "    \n",
    "instance['matrix'] = [[0]*citiesCount for i in range(citiesCount)]\n",
    "print(citiesCount)\n",
    "            \n",
    "for fromNode in instance['nodes']:\n",
    "    for toNode in instance['nodes'][fromNode['id']:citiesCount]:\n",
    "        dist = int(hypot(toNode['x'] - fromNode['x'], toNode['y'] - fromNode['y']))\n",
    "        instance['matrix'][fromNode['id']][toNode['id']] = dist\n",
    "        instance['matrix'][toNode['id']][fromNode['id']] = dist\n",
    "\n",
    "print(instance)"
   ]
  },
  {
   "cell_type": "code",
   "execution_count": null,
   "metadata": {},
   "outputs": [],
   "source": []
  },
  {
   "cell_type": "code",
   "execution_count": null,
   "metadata": {},
   "outputs": [],
   "source": []
  }
 ],
 "metadata": {
  "kernelspec": {
   "display_name": "Python 3",
   "language": "python",
   "name": "python3"
  }
 },
 "nbformat": 4,
 "nbformat_minor": 2
}
