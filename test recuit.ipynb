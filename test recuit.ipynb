{
 "cells": [
  {
   "cell_type": "code",
   "execution_count": 1,
   "metadata": {},
   "outputs": [
    {
     "data": {
      "text/plain": [
       "<Figure size 640x480 with 1 Axes>"
      ]
     },
     "metadata": {},
     "output_type": "display_data"
    }
   ],
   "source": [
    "## Generate a contour plot\n",
    "# Import some other libraries that we'll need\n",
    "# matplotlib and numpy packages must also be installed\n",
    "import matplotlib\n",
    "import numpy as np\n",
    "import matplotlib.pyplot as plt\n",
    "import random\n",
    "import math\n",
    "\n",
    "# define objective function\n",
    "def f(x):\n",
    "    #x1=x\n",
    "    #x1 = x[0]\n",
    "    #x2 = x[1]\n",
    "    x= float(x)\n",
    "    #obj = 0.1*math.cos(x1)\n",
    "    #obj = 0.5*x\n",
    "    #obj = 0.2 + x1**2 + x1**2 - 0.1*math.cos(6.0*3.1415*x1) - 0.1*math.cos(6.0*3.1415*x1)\n",
    "    obj =0.0001*(x+1)*(x-5)*(x-7)*(x-15)*(x-25)*(x-32)\n",
    "    obj =-0.000001*(x+1)*(x-5)*(x-7)*(x-15)*(x-25)*(x-32)*(x-40)*(x-45)+5*x\n",
    "    #print(obj)\n",
    "    return obj\n",
    "\n",
    "# Start location\n",
    "x_start = [0.8, -0.5]\n",
    "y = []\n",
    "x=range(-1,46)\n",
    "for i in x:\n",
    "    #a = [i,2*i+8]\n",
    "    y.append(f(i))\n",
    "\n",
    "\n",
    "#plt.plot([1,2,3,6],[1,2,5,9])\n",
    "plt.plot(x,y)\n",
    "\n",
    "plt.show()"
   ]
  },
  {
   "cell_type": "code",
   "execution_count": 2,
   "metadata": {},
   "outputs": [
    {
     "data": {
      "image/png": "[encoded data removed]",
      "text/plain": [
       "<Figure size 432x288 with 1 Axes>"
      ]
     },
     "metadata": {
      "needs_background": "light"
     },
     "output_type": "display_data"
    }
   ],
   "source": [
    "def recuit(f):\n",
    "\n",
    "    t1 = 10\n",
    "    t = t1\n",
    "    xstart = 5\n",
    "    fc = f(xstart)\n",
    "    n=1000\n",
    "    na =0\n",
    "    results = []\n",
    "    # DeltaE Average\n",
    "    DeltaE_avg = 0.00000000001\n",
    "    for i in range(n):\n",
    "        #print('Cycle: ' + str(i) + ' with Temperature: ' + str(t))\n",
    "\n",
    "        #for j in range(-1;46):\n",
    "\n",
    "        # Generate new trial points\n",
    "\n",
    "        #print('random '+str(random.randrange(-1,46,1)))\n",
    "\n",
    "        #xi = xc + random.random()\n",
    "        xi = random.randrange(-1,46,1)\n",
    "        # Clip to upper and lower bounds\n",
    "        #xi = max(min(xi,1.0),-1.0)\n",
    "\n",
    "        DeltaE = abs(f(xi)-fc)\n",
    "        if (f(xi)>fc):\n",
    "            # Initialize DeltaE_avg if a worse solution was found\n",
    "            #   on the first iteration\n",
    "\n",
    "            #if (i==0 and j==0): DeltaE_avg = DeltaE\n",
    "            if(n==0) : DeltaE_avg = DeltaE\n",
    "\n",
    "            # objective function is worse\n",
    "            # generate probability of acceptance\n",
    "            p = math.exp(-DeltaE/(DeltaE_avg * t))\n",
    "            # determine whether to accept worse point\n",
    "            if (random.random()<p):\n",
    "                # accept the worse solution\n",
    "                accept = True\n",
    "                #print('accepted worse')\n",
    "            else:\n",
    "                # don't accept the worse solution\n",
    "                accept = False\n",
    "        else:\n",
    "            # objective function is lower, automatically accept\n",
    "            accept = True\n",
    "        if (accept==True):\n",
    "            # update currently accepted solution\n",
    "            xc = xi\n",
    "            fc = f(xc)\n",
    "            #print('new x ='+ str(xc))\n",
    "            #print('new y ='+ str(fc))\n",
    "            results.append(fc)\n",
    "            # increment number of accepted solutions\n",
    "            na = na + 1.0\n",
    "            # update DeltaE_avg\n",
    "            DeltaE_avg = (DeltaE_avg * (na-1.0) +  DeltaE) / na\n",
    "        t = 0.95*t\n",
    "\n",
    "    plt.plot(range(len(results)),results)\n",
    "    plt.show\n",
    "    \n",
    "recuit(f)"
   ]
  },
  {
   "cell_type": "code",
   "execution_count": 3,
   "metadata": {},
   "outputs": [],
   "source": [
    "def g(x):\n",
    "    #x1=x\n",
    "    x1 = x[0]\n",
    "    x2 = x[1]\n",
    "    #x= float(x)\n",
    "    #obj = 0.1*math.cos(x1)\n",
    "    #obj = 0.5*x\n",
    "    obj = 0.2 + x1**2 + x1**2 - 0.1*math.cos(6.0*3.1415*x1) - 0.1*math.cos(6.0*3.1415*x1)"
   ]
  },
  {
   "cell_type": "code",
   "execution_count": 4,
   "metadata": {},
   "outputs": [],
   "source": [
    "import networkx as nx\n",
    "\n",
    "G = nx.Graph()\n",
    "G.add_node(1)\n",
    "G.add_nodes_from([2,3])\n",
    "\n",
    "H = nx.path_graph(10)\n",
    "G.add_nodes_from(H)\n",
    "G.add_edges_from([(1,2), (1,3)])\n"
   ]
  },
  {
   "cell_type": "code",
   "execution_count": 5,
   "metadata": {},
   "outputs": [
    {
     "name": "stderr",
     "output_type": "stream",
     "text": [
      "C:\\Users\\Nico\\Anaconda3\\lib\\site-packages\\networkx\\drawing\\nx_pylab.py:611: MatplotlibDeprecationWarning: isinstance(..., numbers.Number)\n",
      "  if cb.is_numlike(alpha):\n"
     ]
    },
    {
     "data": {
      "image/png": "[encoded data removed]",
      "text/plain": [
       "<Figure size 432x288 with 1 Axes>"
      ]
     },
     "metadata": {},
     "output_type": "display_data"
    }
   ],
   "source": [
    "G = nx.petersen_graph()\n",
    "plt.subplot(121)\n",
    "nx.draw(G, with_labels = True, font_weight='bold')"
   ]
  },
  {
   "cell_type": "code",
   "execution_count": 6,
   "metadata": {},
   "outputs": [
    {
     "data": {
      "text/html": [
       "\n",
       "        <iframe\n",
       "            width=\"800\"\n",
       "            height=\"800\"\n",
       "            src=\"ex.html\"\n",
       "            frameborder=\"0\"\n",
       "            allowfullscreen\n",
       "        ></iframe>\n",
       "        "
      ],
      "text/plain": [
       "<IPython.lib.display.IFrame at 0x17274bfebe0>"
      ]
     },
     "execution_count": 6,
     "metadata": {},
     "output_type": "execute_result"
    }
   ],
   "source": [
    "from pyvis.network import Network\n",
    "\n",
    "g = Network(height=800, width=800, notebook= True)\n",
    "g.toggle_hide_edges_on_drag(False)\n",
    "g.barnes_hut()\n",
    "g.from_nx(nx.davis_southern_women_graph())\n",
    "g.show(\"ex.html\")"
   ]
  },
  {
   "cell_type": "code",
   "execution_count": 7,
   "metadata": {},
   "outputs": [],
   "source": [
    "myGraph = nx.Graph()\n",
    "#myGraph.add_nodes_from(range(7), shape)\n",
    "myGraph.add_weighted_edges_from([(1,8,1),(1,4,2),(2,8,1),(2,6,1),(3,4,2),(3,6,2),(3,5,1),(4,7,2),(5,7,2),(6,8,1),(7,8,1)])"
   ]
  },
  {
   "cell_type": "code",
   "execution_count": 8,
   "metadata": {},
   "outputs": [
    {
     "data": {
      "text/html": [
       "\n",
       "        <iframe\n",
       "            width=\"800\"\n",
       "            height=\"800\"\n",
       "            src=\"ex2.html\"\n",
       "            frameborder=\"0\"\n",
       "            allowfullscreen\n",
       "        ></iframe>\n",
       "        "
      ],
      "text/plain": [
       "<IPython.lib.display.IFrame at 0x17274c34d68>"
      ]
     },
     "execution_count": 8,
     "metadata": {},
     "output_type": "execute_result"
    }
   ],
   "source": [
    "g2 = Network(height=800, width=800, notebook= True)\n",
    "g2.toggle_hide_edges_on_drag(False)\n",
    "g2.barnes_hut()\n",
    "g2.from_nx(myGraph)\n",
    "g2.show(\"ex2.html\")"
   ]
  },
  {
   "cell_type": "code",
   "execution_count": null,
   "metadata": {},
   "outputs": [
    {
     "name": "stdout",
     "output_type": "stream",
     "text": [
      "\n",
      "31\n",
      "\n",
      "2\n",
      "3\n",
      "\n",
      "41\n",
      "2\n",
      "2\n",
      "\n"
     ]
    },
    {
     "data": {
      "text/html": [
       "\n",
       "        <iframe\n",
       "            width=\"700\"\n",
       "            height=\"700\"\n",
       "            src=\"ex3.html\"\n",
       "            frameborder=\"0\"\n",
       "            allowfullscreen\n",
       "        ></iframe>\n",
       "        "
      ],
      "text/plain": [
       "<IPython.lib.display.IFrame at 0x17274c40f60>"
      ]
     },
     "execution_count": 9,
     "metadata": {},
     "output_type": "execute_result"
    }
   ],
   "source": [
    "myGraph2 = nx.Graph()\n",
    "matrice = [\n",
    "[0,21,2,51],\n",
    "[31,0,3,2],\n",
    "[2,3,0,2],\n",
    "[41,2,2,0]\n",
    "]\n",
    "\n",
    "for i in range(len(matrice)):\n",
    "    myGraph2.add_node(i)\n",
    "\n",
    "for i in range(len(matrice)) :\n",
    "    for j in range(len(matrice)) :\n",
    "        if(i>j) :\n",
    "            print(matrice[i][j])\n",
    "            myGraph2.add_edge(i,j,weight=matrice[i][j])\n",
    "    print()\n",
    "    \n",
    "g3 = Network(height=700, width=700, notebook= True)\n",
    "g3.toggle_hide_edges_on_drag(False)\n",
    "g3.barnes_hut()\n",
    "g3.from_nx(myGraph2)\n",
    "g3.show(\"ex3.html\")"
   ]
  },
  {
   "cell_type": "code",
   "execution_count": null,
   "metadata": {},
   "outputs": [
    {
     "name": "stdout",
     "output_type": "stream",
     "text": [
      "31\n",
      "2\n",
      "3\n",
      "41\n",
      "2\n",
      "2\n"
     ]
    },
    {
     "name": "stderr",
     "output_type": "stream",
     "text": [
      "C:\\Users\\Nico\\Anaconda3\\lib\\site-packages\\networkx\\drawing\\nx_pylab.py:611: MatplotlibDeprecationWarning: isinstance(..., numbers.Number)\n",
      "  if cb.is_numlike(alpha):\n"
     ]
    },
    {
     "data": {
      "image/png": "[encoded data removed]",
      "text/plain": [
       "<Figure size 432x288 with 1 Axes>"
      ]
     },
     "metadata": {},
     "output_type": "display_data"
    }
   ],
   "source": [
    "G2 = nx.Graph()\n",
    "\n",
    "for i in range(len(matrice)):\n",
    "    myGraph2.add_node(i)\n",
    "    G2.add_node(i, pos=(i*10,i*5+3))\n",
    "\n",
    "for i in range(len(matrice)) :\n",
    "    for j in range(len(matrice)) :\n",
    "        if(i>j) :\n",
    "            print(matrice[i][j])\n",
    "            G2.add_edge(i,j,weight=matrice[i][j])\n",
    "\n",
    "#H = nx.path_graph(10)\n",
    "#G.add_nodes_from(H)\n",
    "#G.add_edges_from([(1,2), (1,3)])\n",
    "\n",
    "pos=nx.get_node_attributes(G2,'pos')\n",
    "labels = nx.get_edge_attributes(G2,'weight')\n",
    "nx.draw_networkx_edge_labels(G2,pos,edge_labels=labels)\n",
    "nx.draw(G2, with_labels = True, font_weight='bold')"
   ]
  },
  {
   "cell_type": "code",
   "execution_count": null,
   "metadata": {},
   "outputs": [
    {
     "name": "stderr",
     "output_type": "stream",
     "text": [
      "C:\\Users\\Nico\\Anaconda3\\lib\\site-packages\\networkx\\drawing\\nx_pylab.py:611: MatplotlibDeprecationWarning: isinstance(..., numbers.Number)\n",
      "  if cb.is_numlike(alpha):\n"
     ]
    },
    {
     "data": {
      "text/plain": [
       "{(0, 1): Text(5.0, 5.5, '31'),\n",
       " (0, 2): Text(10.0, 8.0, '2'),\n",
       " (0, 3): Text(15.0, 10.5, '41'),\n",
       " (1, 2): Text(15.0, 10.5, '3'),\n",
       " (1, 3): Text(20.0, 13.0, '2'),\n",
       " (2, 3): Text(25.0, 15.5, '2')}"
      ]
     },
     "execution_count": 11,
     "metadata": {},
     "output_type": "execute_result"
    },
    {
     "data": {
      "image/png": "[encoded data removed]",
      "text/plain": [
       "<Figure size 432x288 with 1 Axes>"
      ]
     },
     "metadata": {
      "needs_background": "light"
     },
     "output_type": "display_data"
    }
   ],
   "source": [
    "arc_weight = nx.get_edge_attributes(G2,'weight')\n",
    "# Draw the edges\n",
    "nx.draw_networkx_edges(G2, pos,edge_color= 'black')\n",
    "# Draw the edge labels\n",
    "nx.draw_networkx_edge_labels(G2, pos,edge_color= 'black', edge_labels=arc_weight)"
   ]
  },
  {
   "cell_type": "code",
   "execution_count": null,
   "metadata": {},
   "outputs": [
    {
     "data": {
      "image/png": "[encoded data removed]",
      "text/plain": [
       "<Figure size 432x288 with 1 Axes>"
      ]
     },
     "metadata": {
      "needs_background": "light"
     },
     "output_type": "display_data"
    }
   ],
   "source": [
    "import matplotlib.pyplot as plt\n",
    "# We then set the coordinates of each node\n",
    "G3=nx.DiGraph()\n",
    "\n",
    "G3.add_nodes_from(range(1,6))\n",
    "\n",
    "matrice = [\n",
    "[0,1,2,51],\n",
    "[31,0,3,2],\n",
    "[2,3,0,2],\n",
    "[41,2,2,0]\n",
    "]\n",
    "\n",
    "\n",
    "G3.nodes()\n",
    "\n",
    "G3.add_edge(1, 2, weight = 2.0)\n",
    "G3.add_edge(1,3)\n",
    "#G3.edge[1][3]['weight'] = 4.0\n",
    "G3.add_edge(2, 3, weight = 1.0)\n",
    "G3.add_edge(2, 4, weight = 4.0)\n",
    "G3.add_edge(2, 5, weight = 2.0)\n",
    "G3.add_edge(3, 5)\n",
    "#G3.edge[3][5]['weight'] = 3.0\n",
    "G3.add_edge(4, 6, weight = 2.0)\n",
    "G3.add_edge(5, 4, weight = 3.0)\n",
    "G3.add_edge(5, 6, weight = 2.0)\n",
    "G3.edges()\n",
    "\n",
    "sp = nx.dijkstra_path(G3,source = 1, target = 6)\n",
    "\n",
    "for i in range(1,6) :\n",
    "    G3.add_edge\n",
    "\n",
    "G3.node[1]['pos'] = (0,0)\n",
    "G3.node[2]['pos'] = (2,2)\n",
    "G3.node[3]['pos'] = (2,-2)\n",
    "G3.node[4]['pos'] = (5,2)\n",
    "G3.node[5]['pos'] = (5,-2)\n",
    "G3.node[6]['pos'] = (7,0)\n",
    "# The positions of each node are stored in a dictionary\n",
    "node_pos=nx.get_node_attributes(G3,'pos')\n",
    "# The edge weights of each arcs are stored in a dictionary\n",
    "arc_weight=nx.get_edge_attributes(G3,'weight')\n",
    "# Create a list of arcs in the shortest path using the zip command and store it in red edges\n",
    "red_edges = list(zip(sp,sp[1:]))\n",
    "# If the node is in the shortest path, set it to red, else set it to white color\n",
    "node_col = ['white' if not node in sp else 'red' for node in G3.nodes()]\n",
    "# If the edge is in the shortest path set it to red, else set it to white color\n",
    "edge_col = ['black' if not edge in red_edges else 'red' for edge in G3.edges()]\n",
    "# Draw the nodes\n",
    "nx.draw_networkx(G3, node_pos,node_color= node_col, node_size=450)\n",
    "# Draw the node labels\n",
    "# nx.draw_networkx_labels(G1, node_pos,node_color= node_col)\n",
    "# Draw the edges\n",
    "nx.draw_networkx_edges(G3, node_pos,edge_color= edge_col)\n",
    "# Draw the edge labels\n",
    "nx.draw_networkx_edge_labels(G3, node_pos,edge_color= edge_col, edge_labels=arc_weight)\n",
    "# Remove the axis\n",
    "plt.axis('off')\n",
    "# Show the plot\n",
    "plt.show()"
   ]
  },
  {
   "cell_type": "code",
   "execution_count": null,
   "metadata": {},
   "outputs": [
    {
     "data": {
      "image/png": "[encoded data removed]",
      "text/plain": [
       "<Figure size 432x288 with 1 Axes>"
      ]
     },
     "metadata": {
      "needs_background": "light"
     },
     "output_type": "display_data"
    }
   ],
   "source": [
    "import matplotlib.pyplot as plt\n",
    "# We then set the coordinates of each node\n",
    "G3=nx.DiGraph()\n",
    "\n",
    "#G3.add_nodes_from(range(1,7))\n",
    "\n",
    "matrice = [\n",
    "[0,1,2,1,2,6],\n",
    "[1,0,3,2,3,1],\n",
    "[2,3,0,2,2,2],\n",
    "[1,2,2,0,1,1],\n",
    "[2,1,2,1,0,2],\n",
    "[6,1,2,1,2,0]\n",
    "]\n",
    "\n",
    "G3.add_nodes_from(range(len(matrice)))\n",
    "\n",
    "\n",
    "\n",
    "for i in range(len(matrice)) :\n",
    "    for j in range(len(matrice)) :\n",
    "        G3.add_edge(i,j,weight=matrice[i][j])\n",
    "\n",
    "sp = nx.dijkstra_path(G3,source = 1, target = 5)\n",
    "\n",
    "G3.node[0]['pos'] = (7,0)\n",
    "G3.node[1]['pos'] = (0,0)\n",
    "G3.node[2]['pos'] = (2,2)\n",
    "G3.node[3]['pos'] = (2,-2)\n",
    "G3.node[4]['pos'] = (5,2)\n",
    "G3.node[5]['pos'] = (5,-2)\n",
    "#G3.node[6]['pos'] = (5,0)\n",
    "# The positions of each node are stored in a dictionary\n",
    "node_pos=nx.get_node_attributes(G3,'pos')\n",
    "# The edge weights of each arcs are stored in a dictionary\n",
    "arc_weight=nx.get_edge_attributes(G3,'weight')\n",
    "# Create a list of arcs in the shortest path using the zip command and store it in red edges\n",
    "red_edges = list(zip(sp,sp[1:]))\n",
    "# If the node is in the shortest path, set it to red, else set it to white color\n",
    "node_col = ['red']\n",
    "# If the edge is in the shortest path set it to red, else set it to white color\n",
    "edge_col = ['black' if not edge in red_edges else 'red' for edge in G3.edges()]\n",
    "# Draw the nodes\n",
    "nx.draw_networkx(G3, node_pos,node_color= node_col, node_size=450)\n",
    "# Draw the node labels\n",
    "# nx.draw_networkx_labels(G1, node_pos,node_color= node_col)\n",
    "# Draw the edges\n",
    "nx.draw_networkx_edges(G3, node_pos,edge_color= edge_col)\n",
    "# Draw the edge labels\n",
    "nx.draw_networkx_edge_labels(G3, node_pos,edge_color= edge_col, edge_labels=arc_weight)\n",
    "# Remove the axis\n",
    "plt.axis('off')\n",
    "# Show the plot\n",
    "plt.show()"
   ]
  },
  {
   "cell_type": "code",
   "execution_count": null,
   "metadata": {},
   "outputs": [],
   "source": [
    "def chunks(l, n):\n",
    "    n = max(1, n)\n",
    "    return (l[i:i+n] for i in xrange(0, len(l), n))\n",
    "\n",
    "def swap1(paths):\n",
    "    #paths = paths.tolist()\n",
    "    path1index = random.randrange(len(paths))\n",
    "    path2index = random.randrange(len(paths))\n",
    "    \n",
    "    while len(paths[path2index]) == 0 :\n",
    "        path1index = random.randrange(len(paths))\n",
    "    \n",
    "    #while path1index == path2index:\n",
    "    #    path2index = random.randrange(len(paths))\n",
    "    \n",
    "    randP1 = math.ceil(random.random()*2)\n",
    "    randP2 = math.ceil(random.random()*2)\n",
    "    #print(\"rp1 \" + str(math.ceil(randP1)))\n",
    "    #print(\"rp2 \" + str(math.ceil(randP2)))\n",
    "    \n",
    "    path1 = paths[path1index]\n",
    "    path2 = paths[path2index]\n",
    "\n",
    "    #print(path1) \n",
    "    #print(path2) \n",
    "    \n",
    "    #x1 = path1[0] if randP1 == 1 else path1[len(path1)-1]\n",
    "    #if list à 1 element cas particlier\n",
    "    #x2 = path1[1] if randP1 == 1 else path1[len(path1)-2]\n",
    "    \n",
    "    y1 = path2[0] if randP2 == 1 else path2[len(path2)-1]\n",
    "    #same si 1 element\n",
    "    #y2 = path2[1] if randP2 == 1 else path2[len(path2)-2]\n",
    "\n",
    "    #print(x1)\n",
    "    #print(x2)\n",
    "    \n",
    "    print(y1)\n",
    "    \n",
    "    #print(y2)\n",
    "    \n",
    "    #print(\"swap extra\")\n",
    "    \n",
    "    #paths[path1index].insert(0,y1)\n",
    "    #paths[path1index]= path1\n",
    "    #paths[path1index]= path1\n",
    "\n",
    "    path1.insert(0,y1)\n",
    "\n",
    "    path2.remove(y1)\n",
    "    paths[path1index] = path1\n",
    "    paths[path2index] = path2\n",
    "\n",
    "    \n",
    "    #print(path1)\n",
    "    #print(path2)\n",
    "    #print(\"swaped extra\")\n",
    "    return paths\n",
    "    \n",
    "\n",
    "\n",
    "\n",
    "\n",
    "\n"
   ]
  },
  {
   "cell_type": "code",
   "execution_count": null,
   "metadata": {},
   "outputs": [],
   "source": [
    "def swap2(paths):\n",
    "    print(\"swap entrées intra\")\n",
    "      #paths = paths.tolist()\n",
    "    path1index = random.randrange(len(paths))\n",
    "    \n",
    "    path1 = paths[path1index]\n",
    "    \n",
    "    while len(path1) < 2 :\n",
    "        path1index = random.randrange(len(paths))\n",
    "        path1 = paths[path1index]\n",
    "        print(\"in while 1\")\n",
    "    \n",
    "    \n",
    "    rand1 = random.randrange(len(path1)-1)\n",
    "    \n",
    "    rand2 = random.randrange(len(path1)-1)\n",
    "    \n",
    "    print(rand1)\n",
    "    print(rand2)\n",
    "    while rand1 == rand2 :\n",
    "        rand2 = random.randrange(len(path1)-1)\n",
    "        print(\"in while 2\")\n",
    "        print(rand2)\n",
    "\n",
    "    \n",
    "    x1 = path1[rand1]\n",
    "    x2 = path1[rand2]\n",
    "    #same si 1 element\n",
    "    \n",
    "    path1[rand1] , path1[rand2] = path1[rand2] , path1[rand1]\n",
    "\n",
    "    paths[path1index] = path1\n",
    "\n",
    "    \n",
    "    #print(path1)\n",
    "    #print(path2)\n",
    "    #print(\"swaped extra\")\n",
    "    return paths\n"
   ]
  },
  {
   "cell_type": "code",
   "execution_count": null,
   "metadata": {},
   "outputs": [],
   "source": [
    "def swap3(x):\n",
    "    print(\"swap3\")"
   ]
  },
  {
   "cell_type": "code",
   "execution_count": null,
   "metadata": {},
   "outputs": [],
   "source": [
    "def printError(x):\n",
    "    print(\"random out of bound\")"
   ]
  },
  {
   "cell_type": "code",
   "execution_count": null,
   "metadata": {},
   "outputs": [],
   "source": [
    "def switchAction(x):\n",
    "    #print(\"x \"+ str(x))\n",
    "    switcher = {\n",
    "        1:swap1,\n",
    "        2:swap2,\n",
    "        3:swap3\n",
    "        \n",
    "    }\n",
    "    #print(\"xx \"+ str(x))\n",
    "    return switcher.get(x,printError)"
   ]
  },
  {
   "cell_type": "code",
   "execution_count": null,
   "metadata": {},
   "outputs": [],
   "source": [
    "def recuit2(matrice,k):\n",
    "\n",
    "    t1 = 10\n",
    "    t = t1\n",
    "    xstart = np.array_split(range(len(matrice)),k)\n",
    "    \n",
    "    #print(xstart)\n",
    "    \n",
    "    xc = np.array(xstart)\n",
    "    xc = xc.tolist()\n",
    "    \n",
    "    print(\"xc\")\n",
    "    print(xc[0])\n",
    "    \n",
    "    #for path in xc :\n",
    "    #    path = path.tolist()\n",
    "    \n",
    "    print(\"re xc\")\n",
    "    print(xc[0])\n",
    "    \n",
    "    #print(xc)\n",
    "    #xc.tolist()\n",
    "    print(xc)\n",
    "    #print(xstart)\n",
    "    \n",
    "    weights = []\n",
    "    \n",
    "   \n",
    "    \n",
    "    for i in range(len(matrice)) :\n",
    "        for j in range(len(matrice)) :\n",
    "            if(i<j) :\n",
    "                weights.append(matrice[i][j])\n",
    "\n",
    "    print(weights)\n",
    "    \n",
    "    for a in xstart:\n",
    "            print(\"a\")\n",
    "    \n",
    "    n=1000\n",
    "    na =0\n",
    "    results = []\n",
    "    # DeltaE Average\n",
    "    DeltaE_avg = 0.00000000001\n",
    "    for i in range(n):\n",
    "        #print('Cycle: ' + str(i) + ' with Temperature: ' + str(t))\n",
    "\n",
    "        #for j in range(-1;46):\n",
    "\n",
    "        # Generate new trial points\n",
    "\n",
    "        #print('random '+str(random.randrange(-1,46,1)))\n",
    "\n",
    "        '''\n",
    "        print(\"start x0 \"+str(xc[0][0]))\n",
    "        print(\"start x1 \"+str(xc[1][0]))\n",
    "        print(\"fin x0 \"+str(xc[0][len(xc[0])-1]))\n",
    "        print(\"fin x1 \"+str(xc[1][len(xc[1])-1]))\n",
    "        '''\n",
    "        \n",
    "        \n",
    "        '''\n",
    "        #xi = xc + random.random()\n",
    "        x0 = random.randrange(xc[0][0], xc[0][len(xc[0])-1] ,1)\n",
    "        x1 = random.randrange(xc[1][0], xc[1][len(xc[0])-1],1)\n",
    "        x3 = random.randrange(0,len(matrice)-1,1)\n",
    "        x4 = random.randrange(0,len(matrice)-1,1)\n",
    "        '''\n",
    "        \n",
    "       \n",
    "        '''\n",
    "        print(\"r1 \"+str(x0))\n",
    "        print(\"r2 \"+str(x1))\n",
    "        print(\"r3 \"+str(x3))\n",
    "        print(\"r4 \"+str(x4))\n",
    "        '''\n",
    "        \n",
    "        \n",
    "        randAction = random.randrange(1,3)\n",
    "        \n",
    "        #print(\"hi1 \"+ str(randAction))\n",
    "        \n",
    "        #swap = switchAction(randAction)\n",
    "        \n",
    "        print(\"old xc pre swap1\"+ str(xc))\n",
    "        \n",
    "        swap = switchAction(1)\n",
    "        newList = swap(xc)\n",
    "        xc = newList\n",
    "        \n",
    "        \n",
    "        #print(\"new xc\"+ str(xc))\n",
    "        \n",
    "        print(\"new list post swap 1\" + str(newList))\n",
    "        \n",
    "        swap = switchAction(2)\n",
    "        xc = swap(xc)\n",
    "        \n",
    "        print(\"new list post swap 2\" + str(xc))\n",
    "\n",
    "        \n",
    "        \n",
    "        \n",
    "        #print(\"hi2\")\n",
    "                \n",
    "        \n",
    "        \n",
    "        xi = 1\n",
    "        fc=1\n",
    "        # Clip to upper and lower bounds\n",
    "        #xi = max(min(xi,1.0),-1.0)\n",
    "\n",
    "        DeltaE = abs(f(xi)-fc)\n",
    "        if (f(xi)>fc):\n",
    "            # Initialize DeltaE_avg if a worse solution was found\n",
    "            #   on the first iteration\n",
    "\n",
    "            #if (i==0 and j==0): DeltaE_avg = DeltaE\n",
    "            if(n==0) : DeltaE_avg = DeltaE\n",
    "\n",
    "            # objective function is worse\n",
    "            # generate probability of acceptance\n",
    "            p = math.exp(-DeltaE/(DeltaE_avg * t))\n",
    "            # determine whether to accept worse point\n",
    "            if (random.random()<p):\n",
    "                # accept the worse solution\n",
    "                accept = True\n",
    "                #print('accepted worse')\n",
    "            else:\n",
    "                # don't accept the worse solution\n",
    "                accept = False\n",
    "        else:\n",
    "            # objective function is lower, automatically accept\n",
    "            accept = True\n",
    "        if (accept==True):\n",
    "            # update currently accepted solution\n",
    "            xc = xi\n",
    "            fc = f(xc)\n",
    "            #print('new x ='+ str(xc))\n",
    "            #print('new y ='+ str(fc))\n",
    "            results.append(fc)\n",
    "            # increment number of accepted solutions\n",
    "            na = na + 1.0\n",
    "            # update DeltaE_avg\n",
    "            DeltaE_avg = (DeltaE_avg * (na-1.0) +  DeltaE) / na\n",
    "        t = 0.95*t\n",
    "\n",
    "    plt.plot(range(len(results)),results)\n",
    "    plt.show\n",
    "    \n"
   ]
  },
  {
   "cell_type": "code",
   "execution_count": null,
   "metadata": {},
   "outputs": [
    {
     "name": "stdout",
     "output_type": "stream",
     "text": [
      "xc\n",
      "[0, 1, 2]\n",
      "re xc\n",
      "[0, 1, 2]\n",
      "[[0, 1, 2], [3, 4, 5]]\n",
      "[2, 3, 4, 5, 6, 9, 10, 11, 12, 16, 17, 18, 23, 24, 30]\n",
      "a\n",
      "a\n",
      "old xc pre swap1[[0, 1, 2], [3, 4, 5]]\n",
      "3\n",
      "new list post swap 1[[0, 1, 2], [3, 4, 5]]\n",
      "swap entrées intra\n",
      "1\n",
      "0\n",
      "new list post swap 2[[0, 1, 2], [4, 3, 5]]\n",
      "old xc pre swap1[[0, 1, 2], [4, 3, 5]]\n",
      "4\n",
      "new list post swap 1[[0, 1, 2], [4, 3, 5]]\n",
      "swap entrées intra\n",
      "1\n",
      "1\n",
      "in while 2\n",
      "1\n",
      "in while 2\n",
      "0\n",
      "new list post swap 2[[1, 0, 2], [4, 3, 5]]\n",
      "old xc pre swap1[[1, 0, 2], [4, 3, 5]]\n",
      "2\n",
      "new list post swap 1[[1, 0, 2], [4, 3, 5]]\n",
      "swap entrées intra\n",
      "1\n",
      "1\n",
      "in while 2\n",
      "1\n",
      "in while 2\n",
      "0\n",
      "new list post swap 2[[0, 1, 2], [4, 3, 5]]\n",
      "old xc pre swap1[[0, 1, 2], [4, 3, 5]]\n",
      "0\n",
      "new list post swap 1[[0, 1, 2], [4, 3, 5]]\n",
      "swap entrées intra\n",
      "0\n",
      "0\n",
      "in while 2\n",
      "1\n",
      "new list post swap 2[[0, 1, 2], [3, 4, 5]]\n",
      "old xc pre swap1[[0, 1, 2], [3, 4, 5]]\n",
      "3\n",
      "new list post swap 1[[3, 0, 1, 2], [4, 5]]\n",
      "swap entrées intra\n",
      "0\n",
      "0\n"
     ]
    }
   ],
   "source": [
    "matrice = [\n",
    "        [1,2,3,4,5,6],\n",
    "        [7,8,9,10,11,12],\n",
    "        [13,14,15,16,17,18],\n",
    "        [19,20,21,22,23,24],\n",
    "        [25,26,27,28,29,30],\n",
    "        [31,32,33,34,35,36]\n",
    "        \n",
    "    ]\n",
    "\n",
    "recuit2(matrice,2)"
   ]
  },
  {
   "cell_type": "code",
   "execution_count": null,
   "metadata": {},
   "outputs": [],
   "source": [
    "a = np.array([1, 2])\n",
    "a.tolist()\n",
    "\n",
    "\n"
   ]
  },
  {
   "cell_type": "code",
   "execution_count": null,
   "metadata": {},
   "outputs": [],
   "source": [
    "a = np.array([[1, 2], [3, 4]])\n",
    "b = [1, 2, 3, 4]\n",
    "c = np.array_split(b,2)\n",
    "d = np.array(c)\n",
    "print(a)\n",
    "print(b)\n",
    "print(c)\n",
    "print(d)"
   ]
  },
  {
   "cell_type": "code",
   "execution_count": null,
   "metadata": {},
   "outputs": [],
   "source": [
    "myGraph4 = nx.Graph()\n",
    "matrice = [\n",
    "[0,21,2,51],\n",
    "[31,0,3,2],\n",
    "[2,3,0,2],\n",
    "[41,2,2,0]\n",
    "]\n",
    "\n",
    "for i in range(len(matrice)):\n",
    "    myGraph4.add_node(i)\n",
    "\n",
    "for i in range(len(matrice)) :\n",
    "    for j in range(len(matrice)) :\n",
    "        if(i>j) :\n",
    "            print(matrice[i][j])\n",
    "            myGraph4.add_edge(i,j,weight=matrice[i][j])\n",
    "\n",
    "    \n",
    "g4 = Network(height=700, width=700, notebook= True)\n",
    "g4.toggle_hide_edges_on_drag(False)\n",
    "g4.barnes_hut()\n",
    "g4.from_nx(myGraph4)\n",
    "g4.show(\"ex5.html\")\n"
   ]
  },
  {
   "cell_type": "code",
   "execution_count": null,
   "metadata": {},
   "outputs": [],
   "source": []
  },
  {
   "cell_type": "code",
   "execution_count": null,
   "metadata": {},
   "outputs": [],
   "source": []
  }
 ],
 "metadata": {
  "kernelspec": {
   "display_name": "Python 3",
   "language": "python",
   "name": "python3"
  },
  "language_info": {
   "codemirror_mode": {
    "name": "ipython",
    "version": 3
   },
   "file_extension": ".py",
   "mimetype": "text/x-python",
   "name": "python",
   "nbconvert_exporter": "python",
   "pygments_lexer": "ipython3",
   "version": "3.7.3"
  }
 },
 "nbformat": 4,
 "nbformat_minor": 2
}
