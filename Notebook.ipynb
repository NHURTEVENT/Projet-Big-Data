{
 "cells": [
  {
   "cell_type": "markdown",
   "metadata": {},
   "source": [
    "# Projet Data"
   ]
  },
  {
   "cell_type": "markdown",
   "metadata": {},
   "source": [
    "## Sommaire\n",
    "\n",
    "- <a href='#sectionIntro'>Introduction</a>\n",
    "- <a href='#sectionVRP'>Le VRP</a>\n",
    "- <a href='#sectionHeuristics'>Les heuristiques</a>\n",
    "- <a href='#sectionStats'>Statistiques</a>\n",
    "- <a href='#sectionConclusion'>Conclusion</a>"
   ]
  },
  {
   "cell_type": "markdown",
   "metadata": {},
   "source": [
    "<a id='sectionIntro'></a>\n",
    "## Introduction\n",
    "\n",
    "\n",
    "Introduction du projet et des attendus\n",
    "\n",
    "\n",
    "enjeux du VRP"
   ]
  },
  {
   "cell_type": "markdown",
   "metadata": {},
   "source": [
    "<a id='sectionVRP'></a>\n",
    "## Le VRP\n",
    "\n",
    "\n",
    "Le VRP, ou Vehicule Routing Problem est un nom générique donné à une classe de problème de recherche opérationnelle et d'optimisation combinatoire. Le problème de base est formulé de la manière suivante : déterminer les différentes tournées d'une flotte de véhicules afin de livrer une liste de clients et de retourner à leur point de départ. Le but étant généralement de minimiser le côut des livraisons, mais on peut aussi choisir d'autres critères comme le temps où l'empreinte écologique.\n",
    "\n",
    "![VRP](img/VRP.gif)\n",
    "\n",
    "\n",
    "Ce problème est une extension du problème du voyageur de commerce (TSP) : il reprend le même principe mais ajoute plusieurs plusieurs véhicules au lieu d'un seul pour le TSP. Cette contrainte fait place le VRP dans la catégorie NP-Hard.\n",
    "\n",
    "Afin de résoudre le problème du VRP il faut le définir mathématiquement : \n",
    "\n",
    "![Démonstration mathématique](img/maths.png)\n",
    "\n",
    "Aujourd'hui le VRP est un problème central dans les domaines des transports et de la logistique et il le sera encore pour les années futures. En effet optimiser ses livraisons est très important pour les entreprises des domaines cités précédemment car cela leur permet de réduire leur coûts. De ce fait il existe de nombreuses variantes du VRP avec chacune des contraintes que l'ont peut trouver dans des situations réelles :\n",
    "- Capacited VRP (CVRP) : tous les véhicules ont une limite sur la quantité d'objets qu'ils peuvent transporter\n",
    "- VRP with Time Window (VRPTM) : chaque client doit être livré dans une certaine plage horaire\n",
    "- Multiple Depot VRP (MDVRP) : les véhicules peuvent partir de plusieurs dépots\n",
    "- VRP with Pick-Up and Delivering (VRPPD) : les clients peuvent renvoyer des éléments au passage des véhicules\n",
    "- Split Delivery VRP (SDVRP) : un client peut être livré par plusieurs véhicules\n",
    "- Stochastic VRP (SVRP) : on ajoute des valeurs aléatoires au problème (par exemple que les clients ont une probabilité p d'être présents)\n",
    "- Periodic VRP (PVRP) : au lieu de faire les livraisons sur un seul jour, on peut livrer sur N jours\n",
    "\n",
    "Pour ce projet nous avons décidés de choisir le problème du CVRP car il nous permet de remplir deux contraintes : utilier k camions pour faire les livraisons et la prise en compte de la capacité des camions et de l'encombrement des objets."
   ]
  },
  {
   "cell_type": "markdown",
   "metadata": {},
   "source": [
    "<a id='sectionHeuristics'></a>\n",
    "## Les heuristiques\n",
    "\n",
    "Comme dit précédemment le problème du VRP est un problème NP-Hard, ce qui signifie que les ressources nécessaires pour le résoudre augmentent exponentiellement avec la taille de ses entrées. Pour résoudre ce problème dans un temps raisonnable nous allons donc utiliser des méthodes heuristiques. Les heuristiques sont des méthodes de calculs souvent utilisées pour résoudre des problèmes NP-Hard car elles permettent de trouver une solution assez proche de la solution optimale en un temps raisonnable. Il existe différents types d'heuristiques qui peuvent être comparées avec les criyères suivants :\n",
    "- Qualité du résultat\n",
    "- Coût de l'heuristique (temps / mémoire)\n",
    "\n",
    "Nous avons vu différents types d'heuristiques, chacune ayant des avantages et des inconvénients.\n",
    "\n",
    "###Les algorithmes glouton\n",
    "Les algorithmes gloutons suivent le principe suivant : à chaque étape ils choisissent un optimum local. Ils ont en général un coût assez faible mais en général ils n'aboutissent pas à un optimal global, comme illustré dans l'exemple ci-dessous.\n",
    "\n",
    "![Algorithme Glouton](img/greedy.png)\n",
    "Ici on part du point A et on cherche à monter selon la plus forte pente. Avec ce type d'algorythme on atteint le point m qui est un maximum local mais pas global.\n",
    "\n",
    "\n",
    "###La recherche Tabou\n",
    "Le principe du Tabou est d'effectuer une recherche sur ses voisins, puis de prendre la valeur qui optimise la fonction objectif, tout en évitant les valeurs par lesquelles l'on est déjà passé. Cet algorithme permet de sortir d'un optimum local pour potentiellement trouver un minimum global. A chaque fois que l'on visite un nouveau point, on l'ajoute dans une file FIFO ce qui va permettre à l'algorithme de se souvenir des points qu'il a déjà traversé tout (dans la limite des n derniers points avec n la taille de la file).\n",
    "C'est algorithme converge un peu plus lentement qu'un algorithme glouton mais il permet d'obtenir de meilleurs résultats.\n",
    "\n",
    "###Le recuit simulé\n",
    "Le recuit simulé se base sur la recherche tabou mais introduit une notion de température, plus la température est élevée, plus l'algorithme à de chance de prendre une solution de moins bonne qualité. L'algorithme se découpe en 3 phases :\n",
    "- On choisit un point s au hasard sur la courbe à minimiser (pour avoir une valeur de départ) et on choisi un température T assez élevée.\n",
    "- On fait une recherche sur les voisins de s. Si la nouvelle solution est meilleurs alors on la garde, sinon on calcule la probabilité d'accepter une solution moins bonne à l'aide de la température T. Dans les deux on décrémente la température T.\n",
    "- Quand la température a atteint un certain seuil décidé par l'utilisateur, le programme s'arrête.\n",
    "\n",
    "L'exemple suivant montre la recherche d'un maximim sur une courbe avec la méthode du recuit simulé, avec en bleu l'optimum global à un instant t, en rouge la valeur de s, et en noir la valeur des voisins de s\n",
    "![Recuit Simulé](img/recuit.gif)\n",
    "\n",
    "\n",
    "\n",
    "###Les algorithmes génétiques\n",
    "La dernière catégorie d'heuristiques que nous allons étudier sont les algorithmes génétiques. Ces derniers se basent sur le principe de la sélection naturelle afin de proposer une solution à un problème. Il existe une multitude de variantes d'algorithmes génétiques mais ils ont tous une base commune :\n",
    "![Algorithme Génétique](img/genetic.jpg)\n",
    "\n",
    "La première étape d'un algorithme génétique consiste à générer une population initiale d'individus (en se servant de valeurs aléatoires ou de valeurs par défaut). Ensuite les individus sont évalués par une fonction que l'on peut assimiler à une fonction objectif. Cette fonction va déterminer à quel point un individus est susceptible de se faire sélectionner pour servir de base à la prochaine population. Vient ensuite une étape de sélection qui va retenir des individus afin de les faire passer à la génération suivante (plus un individus a eu un bon socre à sa fonction d'évaluation, plus il est susceptible d'être sélectioné). Ces deux étapes sont une reproduction du principe de sélection naturelle. Vient ensuite une étape de reproduction, dont le but va être de mélanger les caractéristiques des individus sélectionnés (échange de caractéristique, ajout / retrait de caractéristiques en fonction de valeurs aléatoires, ...) afin d'optenir une nouvelle population. Cette étape peut être assimilé aux différentes mutations rencontrées dans le monde biologique.\n",
    "Le programme s'arrête en fonction d'une condition qui peut être soit un nombre fixe d'itérations soit basée sur les caractéristiques de la population.\n",
    "\n",
    "##Choix de l'algorithme\n",
    "Pour ce projet notre choix s'est porté sur l'algorithme du recuit simulé. En effet il nous permet d'optenir des solutions assez proche de la solution optimale dans un temps de calcul qui reste raisonnable pour notre projet. Les algorithmes gloutons et tabou donnant des solutions avec un écart très important par rapport à la solution optimale.\n",
    "\n",
    "PARLER DE L4ALGO GENETIQUE"
   ]
  },
  {
   "cell_type": "markdown",
   "metadata": {},
   "source": [
    "## Solution\n",
    "\n",
    "Comme dit précédemment notre solution s'appuie sur un algorithme de recuit simulé. Dans cette partie nous allons détaillées les différentes étapes de notre solution ainsi que tous les modules qui l'accompagne.\n",
    "\n",
    "###Génération d'instances\n",
    "Afin de tester notre algorithme il nous a fallu un moyen de générer différents cas de tests pour notre programme. Nous avons donc créé un algorithme qui permet de générer des instances du problème du CVRP. La structure de donnée que nous avons utilisé est la suivante :\n",
    "\n",
    "instance = {\n",
    "}\n",
    "\n",
    "Parler du seed + paramètres + logs\n",
    "Parler du générateur à partir d'un fichier\n",
    "\n",
    "Nico va faire la partie sur sa solution\n",
    "\n",
    "\n",
    "Notre solution, comment elle fonctionne + generateur\n",
    "Analyse de la solution niveau complexité"
   ]
  },
  {
   "cell_type": "markdown",
   "metadata": {},
   "source": [
    "<a id='sectionStats'></a>\n",
    "## Statistiques\n",
    "\n",
    "Données qu'on a décidé d'étudier\n",
    "Comment on les étudie\n",
    "Régression linéaire\n"
   ]
  },
  {
   "cell_type": "markdown",
   "metadata": {},
   "source": [
    "<a id='sectionConclusion'></a>\n",
    "## Conclusion"
   ]
  }
 ],
 "metadata": {
  "kernelspec": {
   "display_name": "Python 3",
   "language": "python",
   "name": "python3"
  },
  "language_info": {
   "codemirror_mode": {
    "name": "ipython",
    "version": 3
   },
   "file_extension": ".py",
   "mimetype": "text/x-python",
   "name": "python",
   "nbconvert_exporter": "python",
   "pygments_lexer": "ipython3",
   "version": "3.7.3"
  }
 },
 "nbformat": 4,
 "nbformat_minor": 2
}
